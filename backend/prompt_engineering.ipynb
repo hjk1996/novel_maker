{
 "cells": [
  {
   "cell_type": "code",
   "execution_count": 1,
   "metadata": {},
   "outputs": [],
   "source": [
    "import os\n",
    "import dotenv\n",
    "import json\n",
    "import random\n",
    "import pprint\n",
    "\n",
    "import openai\n",
    "from langchain.prompts import FewShotPromptTemplate, PromptTemplate, ChatPromptTemplate\n",
    "from langchain.output_parsers import PydanticOutputParser, StructuredOutputParser, ResponseSchema\n",
    "from langchain.chat_models import ChatOpenAI\n",
    "from langchain.schema import HumanMessage, SystemMessage\n",
    "from langchain.pydantic_v1 import BaseModel, Field, validator\n",
    "from langchain.callbacks import get_openai_callback"
   ]
  },
  {
   "cell_type": "code",
   "execution_count": 2,
   "metadata": {},
   "outputs": [
    {
     "data": {
      "text/plain": [
       "True"
      ]
     },
     "execution_count": 2,
     "metadata": {},
     "output_type": "execute_result"
    }
   ],
   "source": [
    "dotenv.load_dotenv()"
   ]
  },
  {
   "cell_type": "code",
   "execution_count": 3,
   "metadata": {},
   "outputs": [],
   "source": [
    "api_key = os.environ.get(\"OPENAI_API_KEY\")"
   ]
  },
  {
   "cell_type": "code",
   "execution_count": 4,
   "metadata": {},
   "outputs": [],
   "source": [
    "choices_examples = json.load(open(\"new_choices_examples.json\", \"r\"))\n",
    "next_situation_examples = json.load(open(\"next_situation_examples.json\", \"r\"))"
   ]
  },
  {
   "cell_type": "markdown",
   "metadata": {},
   "source": [
    "# Choices\n"
   ]
  },
  {
   "cell_type": "code",
   "execution_count": 5,
   "metadata": {},
   "outputs": [],
   "source": [
    "choices_chat = ChatOpenAI(model=\"gpt-4-1106-preview\", api_key=api_key, max_tokens=200)"
   ]
  },
  {
   "cell_type": "code",
   "execution_count": 6,
   "metadata": {},
   "outputs": [],
   "source": [
    "class Choices(BaseModel):\n",
    "    choice_1: str = Field(..., alias=\"Choice 1\")\n",
    "    choice_2: str = Field(..., alias=\"Choice 2\")\n",
    "    choice_3: str = Field(..., alias=\"Choice 3\")\n",
    "    choice_4: str = Field(..., alias=\"Choice 4\")"
   ]
  },
  {
   "cell_type": "code",
   "execution_count": 7,
   "metadata": {},
   "outputs": [],
   "source": [
    "choices_parser = PydanticOutputParser(pydantic_object=Choices)"
   ]
  },
  {
   "cell_type": "code",
   "execution_count": 8,
   "metadata": {},
   "outputs": [],
   "source": [
    "choices_example_template = PromptTemplate(\n",
    "    input_variables= [\"previous_situation\", \"choices\"],\n",
    "    template=\"previous situation: {previous_situation}\\nchoice 1: {choice_1}\\nchoice 2: {choice_2}\\nchoice 3: {choice_3}\\nchoice 4: {choice_4}\",   \n",
    ")\n",
    "\n",
    "# choices_fewshot =  FewShotPromptTemplate(\n",
    "#     examples=random.sample(choices_examples, 2),\n",
    "#     example_prompt=choices_example_template,\n",
    "#     suffix=\"previous situation: {input}\",\n",
    "#     input_variables=[\"input\"],\n",
    "# )"
   ]
  },
  {
   "cell_type": "code",
   "execution_count": 9,
   "metadata": {},
   "outputs": [],
   "source": [
    "choices_system_prompt_base = \"\"\"\n",
    "You are the AI of the 'Story Twist' novel writing app. In this app, your task is to provide users with four choices to influence the plot of their novel. Your role is to analyze the current plot and generate compelling choices that can take the story in different directions.\n",
    "\n",
    "Rules:\n",
    "\n",
    "- Analyze the previous situation of the novel.\n",
    "- Generate four distinct choices that could logically follow from the current plot.\n",
    "- Each choice should offer a unique direction for the story's progression.\n",
    "- Ensure the choices are diverse and cater to different story outcomes.\n",
    "- Provide the choices in a clear and concise manner for the user to select from.\"\n",
    "- Ensure the choices are brief and to the point, less than 40 characters each.\n",
    "\n",
    "{format_instruction}\n",
    "\n",
    "Now, let's start!\n",
    "\n",
    "previous situation: {input} \n",
    "\"\"\"\n",
    "\n",
    "choices_system_template = PromptTemplate(\n",
    "    input_variables=[\"previous_situation\", \"format_instruction\", \"input\"],\n",
    "    template=choices_system_prompt_base,\n",
    ")"
   ]
  },
  {
   "cell_type": "code",
   "execution_count": 10,
   "metadata": {},
   "outputs": [],
   "source": [
    "text = \"\"\"\n",
    "IT is a truth universally acknowledged, that a single man in possession of a good fortune must be in want of a wife.\n",
    "\n",
    "However little known the feelings or views of such a man may be on his first entering a neighbourhood, this truth is so well fixed in the minds of the surrounding families, that he is considered as the rightful property of some one or other of their daughters.\n",
    "\n",
    "“My dear Mr. Bennet,” said his lady to him one day, “have you heard that Netherfield Park is let at last?”\n",
    "\n",
    "Mr. Bennet replied that he had not.\n",
    "\n",
    "“But it is,” returned she; “for Mrs. Long has just been here, and she told me all about it.”\n",
    "\n",
    "Mr. Bennet made no answer.\n",
    "\n",
    "“Do not you want to know who has taken it?” cried his wife, impatiently.\n",
    "\n",
    "“You want to tell me, and I have no objection to hearing it.”\n",
    "\"\"\""
   ]
  },
  {
   "cell_type": "code",
   "execution_count": 11,
   "metadata": {},
   "outputs": [
    {
     "name": "stdout",
     "output_type": "stream",
     "text": [
      "choice_1='Mr. Bennet ignores her.' choice_2='Mr. Bennet shows interest.' choice_3='Mrs. Bennet keeps the secret.' choice_4='A visitor interrupts them.'\n",
      "0.0075\n"
     ]
    }
   ],
   "source": [
    "with get_openai_callback() as cb:\n",
    "    message = choices_system_prompt_base.format(\n",
    "    format_instruction=choices_parser.get_format_instructions(),\n",
    "    input=text    \n",
    "    )\n",
    "    output = choices_chat(messages=[SystemMessage(content=message)], )\n",
    "    choices = choices_parser.parse(output.content)\n",
    "    print(choices)\n",
    "    print(cb.total_cost)"
   ]
  },
  {
   "cell_type": "code",
   "execution_count": 12,
   "metadata": {},
   "outputs": [
    {
     "data": {
      "text/plain": [
       "'```json\\n{\\n  \"Choice 1\": \"Mr. Bennet ignores her.\",\\n  \"Choice 2\": \"Mr. Bennet shows interest.\",\\n  \"Choice 3\": \"Mrs. Bennet keeps the secret.\",\\n  \"Choice 4\": \"A visitor interrupts them.\"\\n}\\n```'"
      ]
     },
     "execution_count": 12,
     "metadata": {},
     "output_type": "execute_result"
    }
   ],
   "source": [
    "output.content"
   ]
  },
  {
   "cell_type": "markdown",
   "metadata": {},
   "source": [
    "# Next Story\n"
   ]
  },
  {
   "cell_type": "code",
   "execution_count": 13,
   "metadata": {},
   "outputs": [],
   "source": [
    "class NextStory(BaseModel):\n",
    "    content: str = Field(..., description=\"Next situation of the story\")"
   ]
  },
  {
   "cell_type": "code",
   "execution_count": 14,
   "metadata": {},
   "outputs": [],
   "source": [
    "next_story_parser = PydanticOutputParser(pydantic_object=NextStory)"
   ]
  },
  {
   "cell_type": "code",
   "execution_count": 17,
   "metadata": {},
   "outputs": [],
   "source": [
    "next_story_response_schema = [\n",
    "    ResponseSchema(name=\"next_story\", type=\"string\", description=\"Next situation of the story\"),\n",
    "]"
   ]
  },
  {
   "cell_type": "code",
   "execution_count": 19,
   "metadata": {},
   "outputs": [],
   "source": [
    "next_story_output_parser = StructuredOutputParser.from_response_schemas(response_schemas=next_story_response_schema)"
   ]
  },
  {
   "cell_type": "code",
   "execution_count": 49,
   "metadata": {},
   "outputs": [],
   "source": [
    "next_situation_system_prompt = \"\"\"\n",
    "You are the AI designed for the 'Story Continuation' function in a novel writing app. Your task is to craft the 'next story' of a story by taking into account the 'previous story' and the user's 'choice'. You will synthesize this information to create a seamless and engaging continuation of the plot.\n",
    "\n",
    "Input:\n",
    "\n",
    "previous_story: The last known state or event in the story, as written by the user.\n",
    "choice: The specific direction the user has chosen to take the story.\n",
    "\n",
    "Output:\n",
    "\n",
    "Generate a 'next story' that logically follows from the 'previous story' and the 'choice'.\n",
    "\n",
    "Rules:\n",
    "\n",
    "- The 'next story' should be a direct continuation that flows naturally from the 'choice'.\n",
    "- Maintain the tone and style of the original story, ensuring consistency in narrative voice.\n",
    "- Keep the 'next story' concise yet descriptive enough to inspire the user for further writing.\n",
    "- Avoid introducing new characters or elements that significantly deviate from the established plot.\n",
    "- The length of the 'next story' must not exceed 300 characters.\n",
    "- Ensure that the 'next situation' opens possibilities for further plot development.\n",
    "- Focus on advancing the plot or character development in a meaningful way.\n",
    "\n",
    "{format_instruction}\n",
    "\n",
    "Now, let's start!\n",
    "\n",
    "previous_story: {previous_story}\n",
    "choice: {choice}\n",
    "\"\"\"\n",
    "\n",
    "next_story_template = PromptTemplate(\n",
    "    input_variables=[\"format_instruction\" , \"previous_story\", \"choice\"],\n",
    "    template=next_situation_system_prompt,\n",
    ")"
   ]
  },
  {
   "cell_type": "code",
   "execution_count": 50,
   "metadata": {},
   "outputs": [
    {
     "data": {
      "text/plain": [
       "Choices(choice_1='Mr. Bennet ignores her.', choice_2='Mr. Bennet shows interest.', choice_3='Mrs. Bennet keeps the secret.', choice_4='A visitor interrupts them.')"
      ]
     },
     "execution_count": 50,
     "metadata": {},
     "output_type": "execute_result"
    }
   ],
   "source": [
    "choices"
   ]
  },
  {
   "cell_type": "code",
   "execution_count": 51,
   "metadata": {},
   "outputs": [],
   "source": [
    "next_story_chat = ChatOpenAI(model=\"gpt-4-1106-preview\", api_key=api_key, max_tokens=200, temperature=0.9)"
   ]
  },
  {
   "cell_type": "code",
   "execution_count": 52,
   "metadata": {},
   "outputs": [
    {
     "name": "stdout",
     "output_type": "stream",
     "text": [
      "{'next_story': \"The clamor of a knock interrupted them. Mr. Bennet frowned, 'It seems we have a visitor,' he said, rising to answer the door.\"}\n",
      "0.00627\n"
     ]
    }
   ],
   "source": [
    "with get_openai_callback() as cb:\n",
    "    next_story_instruction = next_story_template.format(format_instruction=next_story_output_parser.get_format_instructions(), previous_story=text, choice=choices.choice_4)\n",
    "    output = next_story_chat(messages=[SystemMessage(content=next_story_instruction)], )\n",
    "    next_story =  next_story_output_parser.parse(output.content)\n",
    "    print(next_story)\n",
    "    print(cb.total_cost)"
   ]
  },
  {
   "cell_type": "code",
   "execution_count": 47,
   "metadata": {},
   "outputs": [
    {
     "data": {
      "text/plain": [
       "'```json\\n{\\n\\t\"next_story\": \"A knock interrupted their repartee. Mrs. Hill bustling in, \\'Sir, a gentleman to see you.\\'\"\\n}\\n```'"
      ]
     },
     "execution_count": 47,
     "metadata": {},
     "output_type": "execute_result"
    }
   ],
   "source": [
    "output.content"
   ]
  },
  {
   "cell_type": "code",
   "execution_count": null,
   "metadata": {},
   "outputs": [],
   "source": []
  }
 ],
 "metadata": {
  "kernelspec": {
   "display_name": ".venv",
   "language": "python",
   "name": "python3"
  },
  "language_info": {
   "codemirror_mode": {
    "name": "ipython",
    "version": 3
   },
   "file_extension": ".py",
   "mimetype": "text/x-python",
   "name": "python",
   "nbconvert_exporter": "python",
   "pygments_lexer": "ipython3",
   "version": "3.12.0"
  }
 },
 "nbformat": 4,
 "nbformat_minor": 2
}
